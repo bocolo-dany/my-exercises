{
 "cells": [
  {
   "cell_type": "code",
   "execution_count": 1,
   "id": "42e20c73",
   "metadata": {},
   "outputs": [
    {
     "name": "stdout",
     "output_type": "stream",
     "text": [
      "[1, 2, 3, 5, 8, 13, 21, 34, 55, 89, 144, 233, 377]\n",
      "Wall time: 0 ns\n"
     ]
    }
   ],
   "source": [
    "%%time\n",
    "fibonati = []\n",
    "t1 = 0\n",
    "t2 = 1\n",
    "for x in range(0,13):\n",
    "    t3 = t1 + t2\n",
    "    t1 = t2\n",
    "    t2 = t3\n",
    "    fibonati.append(t3)\n",
    "print(fibonati)"
   ]
  }
 ],
 "metadata": {
  "kernelspec": {
   "display_name": "Python 3 (ipykernel)",
   "language": "python",
   "name": "python3"
  },
  "language_info": {
   "codemirror_mode": {
    "name": "ipython",
    "version": 3
   },
   "file_extension": ".py",
   "mimetype": "text/x-python",
   "name": "python",
   "nbconvert_exporter": "python",
   "pygments_lexer": "ipython3",
   "version": "3.9.13"
  }
 },
 "nbformat": 4,
 "nbformat_minor": 5
}
