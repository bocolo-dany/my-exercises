{
 "cells": [
  {
   "cell_type": "code",
   "execution_count": 3,
   "id": "c48b250c",
   "metadata": {},
   "outputs": [
    {
     "name": "stdout",
     "output_type": "stream",
     "text": [
      "[17, 63, 40, 19, 30, 50, 85, 35, 27, 20]\n"
     ]
    }
   ],
   "source": [
    "import random\n",
    "lista = []\n",
    "for x in random.sample(range(100),10):\n",
    "    lista.append(x)\n",
    "print(lista)"
   ]
  }
 ],
 "metadata": {
  "kernelspec": {
   "display_name": "Python 3 (ipykernel)",
   "language": "python",
   "name": "python3"
  },
  "language_info": {
   "codemirror_mode": {
    "name": "ipython",
    "version": 3
   },
   "file_extension": ".py",
   "mimetype": "text/x-python",
   "name": "python",
   "nbconvert_exporter": "python",
   "pygments_lexer": "ipython3",
   "version": "3.9.13"
  }
 },
 "nbformat": 4,
 "nbformat_minor": 5
}
