{
 "cells": [
  {
   "cell_type": "code",
   "execution_count": 3,
   "id": "51509112",
   "metadata": {},
   "outputs": [],
   "source": [
    "import random\n",
    "def menu():\n",
    "    print(\"Selecione um número no intervalo de 1 a 10 \")\n",
    "    for x in range(0,5):\n",
    "        escolha = int(input(\"entre com o número \"))\n",
    "        rand = random.randint(1,10)\n",
    "        print(\"O número aleatorio é \", rand)\n",
    "        if escolha == rand:\n",
    "            print(\"VocÊ acertou a escolha\")\n",
    "            break\n",
    "        else:\n",
    "            print(\"VocÊ errou a escolha\")"
   ]
  },
  {
   "cell_type": "code",
   "execution_count": 2,
   "id": "a99b46e1",
   "metadata": {},
   "outputs": [
    {
     "name": "stdout",
     "output_type": "stream",
     "text": [
      "Selecione um número no intervalo de 1 a 5 \n",
      "entre com o número 1\n",
      "O número aleatorio é  2\n",
      "VocÊ errou a escolha\n",
      "entre com o número 2\n",
      "O número aleatorio é  2\n",
      "VocÊ acertou a escolha\n"
     ]
    }
   ],
   "source": [
    "menu()"
   ]
  }
 ],
 "metadata": {
  "kernelspec": {
   "display_name": "Python 3 (ipykernel)",
   "language": "python",
   "name": "python3"
  },
  "language_info": {
   "codemirror_mode": {
    "name": "ipython",
    "version": 3
   },
   "file_extension": ".py",
   "mimetype": "text/x-python",
   "name": "python",
   "nbconvert_exporter": "python",
   "pygments_lexer": "ipython3",
   "version": "3.9.13"
  }
 },
 "nbformat": 4,
 "nbformat_minor": 5
}
